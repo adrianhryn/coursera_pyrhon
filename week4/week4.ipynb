{
 "cells": [
  {
   "cell_type": "code",
   "execution_count": 175,
   "metadata": {},
   "outputs": [
    {
     "name": "stdout",
     "output_type": "stream",
     "text": [
      "test1.txt\n",
      "C:\\Users\\Admin\\AppData\\Local\\Temp\\test2.txt\n"
     ]
    },
    {
     "ename": "TypeError",
     "evalue": "iter() returned non-iterator of type 'File'",
     "output_type": "error",
     "traceback": [
      "\u001b[1;31m---------------------------------------------------------------------------\u001b[0m",
      "\u001b[1;31mTypeError\u001b[0m                                 Traceback (most recent call last)",
      "\u001b[1;32m<ipython-input-175-5cb8d3179098>\u001b[0m in \u001b[0;36m<module>\u001b[1;34m\u001b[0m\n\u001b[0;32m     50\u001b[0m \u001b[1;31m#    print(f.read())\u001b[0m\u001b[1;33m\u001b[0m\u001b[1;33m\u001b[0m\u001b[0m\n\u001b[0;32m     51\u001b[0m \u001b[1;33m\u001b[0m\u001b[0m\n\u001b[1;32m---> 52\u001b[1;33m \u001b[1;32mfor\u001b[0m \u001b[0mi\u001b[0m \u001b[1;32min\u001b[0m \u001b[0mFile\u001b[0m\u001b[1;33m(\u001b[0m\u001b[1;34m\"test1.txt\"\u001b[0m\u001b[1;33m)\u001b[0m\u001b[1;33m:\u001b[0m\u001b[1;33m\u001b[0m\u001b[0m\n\u001b[0m\u001b[0;32m     53\u001b[0m     \u001b[0mprint\u001b[0m\u001b[1;33m(\u001b[0m\u001b[0mi\u001b[0m\u001b[1;33m)\u001b[0m\u001b[1;33m\u001b[0m\u001b[0m\n",
      "\u001b[1;31mTypeError\u001b[0m: iter() returned non-iterator of type 'File'"
     ]
    }
   ],
   "source": [
    "import os\n",
    "import tempfile\n",
    "\n",
    "class File:\n",
    "    \n",
    "    def __init__(self, path):\n",
    "        self.path = path\n",
    "        self.start = 1\n",
    "        self.end = sum(1 for line in open(self.path))\n",
    "        \n",
    "        with open(self.path) as f:\n",
    "            self.content = f.read()\n",
    "        \n",
    "    def write(self):\n",
    "        pass\n",
    "    \n",
    "    def __add__(self, obj2):\n",
    "\n",
    "        self.content += \"\\n\"\n",
    "        for i in obj2.content.split(\"\\n\"):\n",
    "            self.content += str(i) + \"\\n\"\n",
    "            \n",
    "        tempdir = tempfile.gettempdir()\n",
    "       \n",
    "        with open(r\"C:\\Users\\Admin\\AppData\\Local\\Temp\\test1.txt\", \"a\") as f:\n",
    "            f.write(self.content)\n",
    "            \n",
    "        return os.path.join(tempdir, self.path)\n",
    "    \n",
    "    def __iter__(self):\n",
    "        return self\n",
    "    \n",
    "    def __getitem__(self, index):\n",
    "        return self.content[index]\n",
    "        \n",
    "        \n",
    "        \n",
    "    def __str__(self):\n",
    "        return self.path\n",
    "    \n",
    "    \n",
    "obj1 = File(\"test1.txt\")\n",
    "obj2 = File(\"test2.txt\")\n",
    "#print(obj1 + obj2)\n",
    "print(obj1)\n",
    "print(obj2 + obj1)\n",
    "\n",
    "#p = obj1 + obj2\n",
    "#with open(r\"C:\\Users\\Admin\\AppData\\Local\\Temp\\test1.txt\", \"a\") as f:\n",
    "#    print(f.read())\n",
    "\n",
    "for i in File(\"test1.txt\"):\n",
    "    print(i)"
   ]
  },
  {
   "cell_type": "code",
   "execution_count": null,
   "metadata": {},
   "outputs": [],
   "source": []
  },
  {
   "cell_type": "code",
   "execution_count": null,
   "metadata": {},
   "outputs": [],
   "source": []
  }
 ],
 "metadata": {
  "kernelspec": {
   "display_name": "Python 3",
   "language": "python",
   "name": "python3"
  },
  "language_info": {
   "codemirror_mode": {
    "name": "ipython",
    "version": 3
   },
   "file_extension": ".py",
   "mimetype": "text/x-python",
   "name": "python",
   "nbconvert_exporter": "python",
   "pygments_lexer": "ipython3",
   "version": "3.6.2"
  }
 },
 "nbformat": 4,
 "nbformat_minor": 2
}
